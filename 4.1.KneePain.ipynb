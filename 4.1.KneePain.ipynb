{
 "cells": [
  {
   "cell_type": "markdown",
   "metadata": {},
   "source": [
    "# Understanding Pain in Knee OA "
   ]
  },
  {
   "cell_type": "code",
   "execution_count": 1,
   "metadata": {},
   "outputs": [],
   "source": [
    "# Check if modules/packages are available\n",
    "from sklearn.discriminant_analysis import LinearDiscriminantAnalysis\n",
    "# What if they are missing?\n",
    "# ... Anaconda, Install, Environments, Alternatives ... "
   ]
  },
  {
   "cell_type": "markdown",
   "metadata": {},
   "source": [
    "## Read Data"
   ]
  },
  {
   "cell_type": "code",
   "execution_count": null,
   "metadata": {},
   "outputs": [],
   "source": [
    "# set working directory \n",
    "%cd \"/Users/erikdam/Dropbox (DIKU)/DataScienceLab/MLIM2019/Thursday\""
   ]
  },
  {
   "cell_type": "code",
   "execution_count": 6,
   "metadata": {},
   "outputs": [
    {
     "name": "stdout",
     "output_type": "stream",
     "text": [
      "(79, 2, 4616)\n",
      "(2, 4616)\n"
     ]
    },
    {
     "data": {
      "text/plain": [
       "array([[[3.0809736e-01, 3.4144926e-01, 3.4228805e-01, ...,\n",
       "         3.2789168e-01, 3.5616398e-01, 3.4242591e-01],\n",
       "        [3.2542470e-01, 3.2728571e-01, 3.3467570e-01, ...,\n",
       "         3.3872384e-01, 3.5709774e-01, 3.2661211e-01]],\n",
       "\n",
       "       [[1.6268915e+01, 2.5216452e+01, 1.7152956e+01, ...,\n",
       "         1.8821058e+01, 1.9046577e+01, 2.1235502e+01],\n",
       "        [1.8823889e+01, 2.6041908e+01, 1.6300777e+01, ...,\n",
       "         2.0828621e+01, 1.9160843e+01, 1.8895550e+01]],\n",
       "\n",
       "       [[1.7199313e+03, 2.0817822e+03, 1.3075573e+03, ...,\n",
       "         1.6961118e+03, 1.6463330e+03, 2.1599397e+03],\n",
       "        [2.3036938e+03, 2.0459600e+03, 1.3724093e+03, ...,\n",
       "         1.7867374e+03, 1.8104639e+03, 1.9342133e+03]],\n",
       "\n",
       "       ...,\n",
       "\n",
       "       [[6.4792686e+00, 6.5132079e+00, 5.4105511e+00, ...,\n",
       "         7.3522625e+00, 7.7846746e+00, 8.3040953e+00],\n",
       "        [4.0680866e+00, 6.5631633e+00, 5.9987478e+00, ...,\n",
       "         7.6236787e+00, 7.3525229e+00, 8.7923174e+00]],\n",
       "\n",
       "       [[4.8000002e+00, 2.4230001e+00, 2.8859999e+00, ...,\n",
       "         3.7670000e+00, 5.4210000e+00,           nan],\n",
       "        [4.0000000e+00, 3.7400000e+00, 3.1059999e+00, ...,\n",
       "         3.0239999e+00,           nan, 3.8000000e+00]],\n",
       "\n",
       "       [[3.0000000e+00, 3.0000000e+00, 1.0000000e+00, ...,\n",
       "         2.0000000e+00, 1.0000000e+00, 1.0000000e+00],\n",
       "        [2.0000000e+00, 2.0000000e+00, 1.0000000e+00, ...,\n",
       "         2.0000000e+00, 0.0000000e+00, 2.0000000e+00]]], dtype=float32)"
      ]
     },
     "execution_count": 6,
     "metadata": {},
     "output_type": "execute_result"
    }
   ],
   "source": [
    "import numpy as np\n",
    "import h5py \n",
    "f = h5py.File('PairedMarkers.mat','r') \n",
    "markers = np.array(f.get('markers'))\n",
    "pain = np.array(f.get('pain'))\n",
    "print(markers.shape)\n",
    "print(pain.shape)"
   ]
  },
  {
   "cell_type": "code",
   "execution_count": 8,
   "metadata": {},
   "outputs": [
    {
     "name": "stdout",
     "output_type": "stream",
     "text": [
      "['Tibia-Homogeneity', 'Tibia-IntStd', 'mTC-Volume', 'mTC-Area', 'mTC-Thickness', 'mTC-ThickQ10', 'mTC-ThicknessCentral', 'mTC-Cavity', 'mTC-CavityRel', 'mTC-Homogeneity', 'mTC-IntStd', 'mTC-Contact Area', 'mTC-Congruity', 'mTC-Smoothness', 'lTC-Volume', 'lTC-Area', 'lTC-Thickness', 'lTC-ThickQ10', 'lTC-ThicknessCentral', 'lTC-Cavity', 'lTC-CavityRel', 'lTC-Homogeneity', 'lTC-IntStd', 'lTC-Contact Area', 'lTC-Congruity', 'lTC-Smoothness', 'mFC-Volume', 'mFC-Area', 'mFC-Thickness', 'mFC-ThickQ10', 'mFC-ThicknessAnterior', 'mFC-ThicknessCentral', 'mFC-ThicknessPosterior', 'mFC-Cavity', 'mFC-CavityRel', 'mFC-Homogeneity', 'mFC-IntStd', 'mFC-Smoothness', 'lFC-Volume', 'lFC-Area', 'lFC-Thickness', 'lFC-ThickQ10', 'lFC-ThicknessAnterior', 'lFC-ThicknessCentral', 'lFC-ThicknessPosterior', 'lFC-Cavity', 'lFC-CavityRel', 'lFC-Homogeneity', 'lFC-IntStd', 'lFC-Smoothness', 'PC-Volume', 'PC-Area', 'PC-Thickness', 'PC-ThickQ10', 'PC-Cavity', 'PC-CavityRel', 'PC-Homogeneity', 'PC-IntStd', 'PC-Smoothness', 'mM-Volume', 'mM-Area', 'mM-Thickness', 'mM-ThickQ10', 'mM-Cavity', 'mM-CavityRel', 'mM-Homogeneity', 'mM-IntStd', 'mM-Smoothness', 'lM-Volume', 'lM-Area', 'lM-Thickness', 'lM-ThickQ10', 'lM-Cavity', 'lM-CavityRel', 'lM-Homogeneity', 'lM-IntStd', 'lM-Smoothness', 'JSW', 'KL']\n"
     ]
    }
   ],
   "source": [
    "markerTags = []\n",
    "for column in f['markerTags']:\n",
    "    row_data = []\n",
    "    for row_number in range(len(column)):            \n",
    "        row_data.append(''.join(map(chr, f[column[row_number]][:])))   \n",
    "    markerTags.append(row_data[0])\n",
    "print(markerTags)"
   ]
  },
  {
   "cell_type": "code",
   "execution_count": 7,
   "metadata": {},
   "outputs": [
    {
     "name": "stdout",
     "output_type": "stream",
     "text": [
      "['JSW', 'KL']\n"
     ]
    }
   ],
   "source": [
    "# Separate MRI markers from the Xray markers\n",
    "mri = markers[:-2,:,:]\n",
    "mriTags = markerTags[:-2]\n",
    "xray = markers[-2:,:,:]\n",
    "xrayTags = markerTags[-2:]\n",
    "print(xrayTags)"
   ]
  },
  {
   "cell_type": "code",
   "execution_count": 9,
   "metadata": {},
   "outputs": [
    {
     "name": "stdout",
     "output_type": "stream",
     "text": [
      "From a total of 4616 knees, found 3 nan pain, 0 nan mri, 1970 nan xray\n"
     ]
    }
   ],
   "source": [
    "# Clean up NaN pain and NaN vars\n",
    "nanPain = np.max(np.isnan(pain), axis=0)\n",
    "nanXray = np.max(np.max(np.isnan(xray), axis=0), axis=0)\n",
    "nanMRI = np.max(np.max(np.isnan(mri), axis=0), axis=0)\n",
    "print('From a total of %d knees, found %d nan pain, %d nan mri, %d nan xray' % (markers.shape[2], np.sum(nanPain), np.sum(nanMRI), np.sum(nanXray)))"
   ]
  },
  {
   "cell_type": "markdown",
   "metadata": {},
   "source": [
    "# Inspecting the data"
   ]
  },
  {
   "cell_type": "code",
   "execution_count": null,
   "metadata": {},
   "outputs": [],
   "source": [
    "%whos"
   ]
  },
  {
   "cell_type": "code",
   "execution_count": 11,
   "metadata": {},
   "outputs": [
    {
     "data": {
      "image/png": "[encoded data removed]",
      "text/plain": [
       "<Figure size 432x288 with 1 Axes>"
      ]
     },
     "metadata": {
      "needs_background": "light"
     },
     "output_type": "display_data"
    }
   ],
   "source": [
    "import matplotlib.pyplot as plt\n",
    "plt.hist(pain[0,:])\n",
    "plt.legend([\"Left knee pain scores\"]);"
   ]
  },
  {
   "cell_type": "markdown",
   "metadata": {},
   "source": [
    "# Define a subset for the analysis"
   ]
  },
  {
   "cell_type": "markdown",
   "metadata": {},
   "source": [
    "Let's look at right knees for those with mri measures and pain score"
   ]
  },
  {
   "cell_type": "code",
   "execution_count": 14,
   "metadata": {},
   "outputs": [
    {
     "name": "stdout",
     "output_type": "stream",
     "text": [
      "<class 'numpy.ndarray'>\n",
      "(4616,)\n",
      "True\n"
     ]
    },
    {
     "data": {
      "text/plain": [
       "array([ True,  True,  True, ...,  True,  True,  True])"
      ]
     },
     "execution_count": 14,
     "metadata": {},
     "output_type": "execute_result"
    }
   ],
   "source": [
    "ok = ~nanMRI & ~nanPain\n",
    "print(type(ok))\n",
    "print(ok.shape)\n",
    "print(ok[0])"
   ]
  },
  {
   "cell_type": "code",
   "execution_count": 17,
   "metadata": {},
   "outputs": [
    {
     "name": "stdout",
     "output_type": "stream",
     "text": [
      "(4613, 77)\n",
      "(4613,)\n"
     ]
    },
    {
     "data": {
      "text/plain": [
       "array([1., 0., 3., ..., 0., 0., 1.], dtype=float32)"
      ]
     },
     "execution_count": 17,
     "metadata": {},
     "output_type": "execute_result"
    }
   ],
   "source": [
    "inVars = mri[:,1,ok].T\n",
    "outcome = pain[1,ok]\n",
    "outBin = outcome > 0\n",
    "print(inVars.shape)\n",
    "print(outcome.shape)\n",
    "outcome"
   ]
  },
  {
   "cell_type": "raw",
   "metadata": {},
   "source": [
    "Alternatives:\n",
    "- left knees\n",
    "- left and right knees together (then we need to be careful!)\n",
    "- difference between left and right knees!"
   ]
  },
  {
   "cell_type": "code",
   "execution_count": null,
   "metadata": {},
   "outputs": [],
   "source": [
    "plt.hist(np.mean(inVars, axis=0));"
   ]
  },
  {
   "cell_type": "markdown",
   "metadata": {},
   "source": [
    "# Linear Discriminant Analysis: Pain or No Pain?"
   ]
  },
  {
   "cell_type": "code",
   "execution_count": 18,
   "metadata": {},
   "outputs": [
    {
     "name": "stdout",
     "output_type": "stream",
     "text": [
      "Data has 2724 with pain, 1889 with no pain\n",
      "Prediction has 3267 with pain, 1346 with no pain\n"
     ]
    }
   ],
   "source": [
    "from sklearn.discriminant_analysis import LinearDiscriminantAnalysis\n",
    "\n",
    "model = LinearDiscriminantAnalysis()\n",
    "model.fit(inVars, outBin)\n",
    "pred = model.predict(inVars)\n",
    "\n",
    "print('Data has %d with pain, %d with no pain' % (np.sum(outBin), np.sum(~outBin)))\n",
    "print('Prediction has %d with pain, %d with no pain' % (np.sum(pred), np.sum(~pred)))"
   ]
  },
  {
   "cell_type": "code",
   "execution_count": 20,
   "metadata": {},
   "outputs": [],
   "source": [
    "import sklearn.metrics as skm\n",
    "\n",
    "def evaluate(labels, pred, classNames):\n",
    "    print('Accuracy:    %.3f' % (skm.accuracy_score(labels,pred)))\n",
    "    print(skm.classification_report(labels, pred, target_names=classNames))"
   ]
  },
  {
   "cell_type": "code",
   "execution_count": 21,
   "metadata": {},
   "outputs": [
    {
     "name": "stdout",
     "output_type": "stream",
     "text": [
      "Accuracy:    0.640\n",
      "                 precision    recall  f1-score   support\n",
      "\n",
      "     Right Pain       0.58      0.42      0.49      1889\n",
      "Right Pain-free       0.66      0.79      0.72      2724\n",
      "\n",
      "      micro avg       0.64      0.64      0.64      4613\n",
      "      macro avg       0.62      0.61      0.60      4613\n",
      "   weighted avg       0.63      0.64      0.63      4613\n",
      "\n"
     ]
    }
   ],
   "source": [
    "evaluate(outBin, pred, ['Right Pain', 'Right Pain-free'])"
   ]
  },
  {
   "cell_type": "raw",
   "metadata": {},
   "source": [
    "Accuracy = true / all\n",
    "Precision = true positive / positive\n",
    "Recall = true positive / true\n",
    "Sensitivity = Recall\n",
    "Specificity = true negatives / negatives\n",
    "F1 = 2*(Recall * Precision) / (Recall + Precision)"
   ]
  },
  {
   "cell_type": "markdown",
   "metadata": {},
   "source": [
    "# Multi-Linear Regression: What correlates with Pain?"
   ]
  },
  {
   "cell_type": "code",
   "execution_count": 22,
   "metadata": {},
   "outputs": [
    {
     "name": "stdout",
     "output_type": "stream",
     "text": [
      "Linear regression coefficient: 0.14\n"
     ]
    },
    {
     "data": {
      "image/png": "[encoded data removed]",
      "text/plain": [
       "<Figure size 432x288 with 1 Axes>"
      ]
     },
     "metadata": {
      "needs_background": "light"
     },
     "output_type": "display_data"
    }
   ],
   "source": [
    "from sklearn.linear_model import LinearRegression\n",
    "import matplotlib.pyplot as plt\n",
    "\n",
    "model = LinearRegression()\n",
    "model.fit(inVars, outcome)\n",
    "pred = model.predict(inVars)\n",
    "\n",
    "plt.scatter(outcome, pred)\n",
    "plt.xlabel('Right knee Pain')\n",
    "plt.ylabel('Linear Regression Prediction')\n",
    "print('Linear regression coefficient: %.2f' % (model.score(inVars, outcome)))"
   ]
  },
  {
   "cell_type": "code",
   "execution_count": 23,
   "metadata": {},
   "outputs": [],
   "source": [
    "def evalCorrelation(xvals, yvals, xlab, ylab):\n",
    "    r2 = skm.r2_score(xvals, yvals)\n",
    "    mad = np.mean(np.abs(xvals-yvals))\n",
    "    print('Linear regression coefficient R2: %.2f' % (r2));\n",
    "    print('Mean absolute difference (MAD): %.2f' % (mad));    \n",
    "    plt.scatter(xvals, yvals)\n",
    "    plt.xlabel(xlab)\n",
    "    plt.ylabel(ylab);\n",
    "    return r2, mad"
   ]
  },
  {
   "cell_type": "code",
   "execution_count": 24,
   "metadata": {},
   "outputs": [
    {
     "name": "stdout",
     "output_type": "stream",
     "text": [
      "Linear regression coefficient R2: 0.14\n",
      "Mean absolute difference (MAD): 2.28\n"
     ]
    },
    {
     "data": {
      "text/plain": [
       "(0.1357160864164999, 2.281151)"
      ]
     },
     "execution_count": 24,
     "metadata": {},
     "output_type": "execute_result"
    },
    {
     "data": {
      "image/png": "[encoded data removed]",
      "text/plain": [
       "<Figure size 432x288 with 1 Axes>"
      ]
     },
     "metadata": {
      "needs_background": "light"
     },
     "output_type": "display_data"
    }
   ],
   "source": [
    "evalCorrelation(outcome, pred, 'Right knee Pain', 'Linear Regression Prediction')"
   ]
  },
  {
   "cell_type": "markdown",
   "metadata": {},
   "source": [
    "### Intra-subject Normalization"
   ]
  },
  {
   "cell_type": "markdown",
   "metadata": {},
   "source": [
    "Exercise: Make the Linear Regression analysis where both the input variables and the outcome is the difference between left and right knee. "
   ]
  },
  {
   "cell_type": "code",
   "execution_count": 95,
   "metadata": {},
   "outputs": [
    {
     "data": {
      "text/plain": [
       "(array([3.000e+00, 1.000e+00, 3.000e+00, 6.000e+00, 6.000e+00, 1.400e+01,\n",
       "        2.400e+01, 7.000e+01, 6.800e+01, 8.000e+01, 8.900e+01, 1.310e+02,\n",
       "        1.660e+02, 2.390e+02, 3.430e+02, 2.224e+03, 3.570e+02, 2.320e+02,\n",
       "        1.700e+02, 1.270e+02, 8.400e+01, 5.500e+01, 7.400e+01, 1.400e+01,\n",
       "        1.900e+01, 7.000e+00, 4.000e+00, 0.000e+00, 2.000e+00, 1.000e+00]),\n",
       " array([-17.       , -15.866667 , -14.733334 , -13.6      , -12.466666 ,\n",
       "        -11.333333 , -10.2      ,  -9.066667 ,  -7.9333334,  -6.8      ,\n",
       "         -5.6666665,  -4.5333333,  -3.4      ,  -2.2666667,  -1.1333333,\n",
       "          0.       ,   1.1333333,   2.2666667,   3.4      ,   4.5333333,\n",
       "          5.6666665,   6.8      ,   7.9333334,   9.066667 ,  10.2      ,\n",
       "         11.333333 ,  12.466666 ,  13.6      ,  14.733334 ,  15.866667 ,\n",
       "         17.       ], dtype=float32),\n",
       " <a list of 30 Patch objects>)"
      ]
     },
     "execution_count": 95,
     "metadata": {},
     "output_type": "execute_result"
    },
    {
     "data": {
      "image/png": "[encoded data removed]",
      "text/plain": [
       "<Figure size 432x288 with 1 Axes>"
      ]
     },
     "metadata": {
      "needs_background": "light"
     },
     "output_type": "display_data"
    }
   ],
   "source": [
    "inVars = mri[:,1,ok].T-mri[:,0,ok].T\n",
    "outcome = pain[1,ok]-pain[0,ok]\n",
    "outBin = outcome > 0\n",
    "# print(outBin)\n",
    "plt.hist(outcome, bins= 30)"
   ]
  },
  {
   "cell_type": "code",
   "execution_count": null,
   "metadata": {},
   "outputs": [],
   "source": [
    "print(pain)\n",
    "outcome = pain[0,ok]\n",
    "model = LinearRegression()\n",
    "model.fit(inVars, outcome)\n",
    "pred = model.predict(inVars)\n",
    "\n",
    "plt.scatter(outcome, pred)\n",
    "plt.xlabel('left knee Pain')\n",
    "plt.ylabel('Linear Regression Prediction')\n",
    "print('Linear regression coefficient: %.2f' % (model.score(inVars, outcome)))"
   ]
  },
  {
   "cell_type": "markdown",
   "metadata": {},
   "source": [
    "# Non-Linear Regression: Random Forest"
   ]
  },
  {
   "cell_type": "code",
   "execution_count": 35,
   "metadata": {},
   "outputs": [
    {
     "name": "stderr",
     "output_type": "stream",
     "text": [
      "D:\\sofatware\\anaconda\\lib\\site-packages\\sklearn\\ensemble\\forest.py:246: FutureWarning: The default value of n_estimators will change from 10 in version 0.20 to 100 in 0.22.\n",
      "  \"10 in version 0.20 to 100 in 0.22.\", FutureWarning)\n"
     ]
    },
    {
     "name": "stdout",
     "output_type": "stream",
     "text": [
      "Linear regression coefficient R2: 0.81\n",
      "Mean absolute difference (MAD): 0.97\n"
     ]
    },
    {
     "data": {
      "image/png": "[encoded data removed]",
      "text/plain": [
       "<Figure size 432x288 with 1 Axes>"
      ]
     },
     "metadata": {
      "needs_background": "light"
     },
     "output_type": "display_data"
    }
   ],
   "source": [
    "from sklearn.ensemble import RandomForestRegressor\n",
    "\n",
    "inVars = mri[:,1,ok].T\n",
    "outcome = pain[1,ok]\n",
    "outBin = outcome > 0\n",
    "model = RandomForestRegressor()\n",
    "model.fit(inVars, outcome)\n",
    "pred = model.predict(inVars)\n",
    "evalCorrelation(outcome, pred, 'Right/Left difference knee Pain', 'Linear Regression Prediction');"
   ]
  },
  {
   "cell_type": "markdown",
   "metadata": {},
   "source": [
    "### Cross-validation!"
   ]
  },
  {
   "cell_type": "code",
   "execution_count": 50,
   "metadata": {},
   "outputs": [
    {
     "name": "stdout",
     "output_type": "stream",
     "text": [
      "Linear regression coefficient R2: 0.08\n",
      "Mean absolute difference (MAD): 2.37\n"
     ]
    },
    {
     "data": {
      "image/png": "[encoded data removed]",
      "text/plain": [
       "<Figure size 432x288 with 1 Axes>"
      ]
     },
     "metadata": {
      "needs_background": "light"
     },
     "output_type": "display_data"
    }
   ],
   "source": [
    "from sklearn.model_selection import cross_val_predict\n",
    "\n",
    "model = RandomForestRegressor(n_estimators=100, max_features='sqrt', max_depth=10) # with default features\n",
    "pred = cross_val_predict(model, inVars, outcome, cv=10)\n",
    "evalCorrelation(outcome, pred, 'Right/Left difference knee Pain', 'Random Forest Prediction');"
   ]
  },
  {
   "cell_type": "markdown",
   "metadata": {},
   "source": [
    "Exercise: Try a simpler RF model, use more RF trees, and more CV folds to train more robustly and possibly avoid over-fitting"
   ]
  },
  {
   "cell_type": "code",
   "execution_count": 51,
   "metadata": {},
   "outputs": [
    {
     "name": "stdout",
     "output_type": "stream",
     "text": [
      "Linear regression coefficient R2: 0.09\n",
      "Mean absolute difference (MAD): 2.36\n"
     ]
    },
    {
     "data": {
      "image/png": "[encoded data removed]",
      "text/plain": [
       "<Figure size 432x288 with 1 Axes>"
      ]
     },
     "metadata": {
      "needs_background": "light"
     },
     "output_type": "display_data"
    }
   ],
   "source": [
    "model = RandomForestRegressor(n_estimators=500, max_features='sqrt', max_depth=10) # with default features\n",
    "pred = cross_val_predict(model, inVars, outcome, cv=10)\n",
    "evalCorrelation(outcome, pred, 'Right/Left difference knee Pain', 'CV Random Forest Prediction');"
   ]
  },
  {
   "cell_type": "markdown",
   "metadata": {},
   "source": [
    "How about the simpler linear regression model above - is it overfitting?"
   ]
  },
  {
   "cell_type": "code",
   "execution_count": 40,
   "metadata": {},
   "outputs": [
    {
     "name": "stdout",
     "output_type": "stream",
     "text": [
      "Linear regression coefficient R2: 0.08\n",
      "Mean absolute difference (MAD): 2.35\n"
     ]
    },
    {
     "data": {
      "image/png": "[encoded data removed]",
      "text/plain": [
       "<Figure size 432x288 with 1 Axes>"
      ]
     },
     "metadata": {
      "needs_background": "light"
     },
     "output_type": "display_data"
    }
   ],
   "source": [
    "model = LinearRegression()\n",
    "pred = cross_val_predict(model, inVars, outcome, cv=3)\n",
    "evalCorrelation(outcome, pred, 'Right/Left difference knee Pain', 'Linear Regression Prediction');"
   ]
  },
  {
   "cell_type": "markdown",
   "metadata": {},
   "source": [
    "# K-Nearest Neighbors?!"
   ]
  },
  {
   "cell_type": "code",
   "execution_count": 42,
   "metadata": {},
   "outputs": [
    {
     "name": "stdout",
     "output_type": "stream",
     "text": [
      "Linear regression coefficient R2: 0.00\n",
      "Mean absolute difference (MAD): 2.38\n"
     ]
    },
    {
     "data": {
      "image/png": "[encoded data removed]",
      "text/plain": [
       "<Figure size 432x288 with 1 Axes>"
      ]
     },
     "metadata": {
      "needs_background": "light"
     },
     "output_type": "display_data"
    }
   ],
   "source": [
    "from sklearn.neighbors import KNeighborsRegressor\n",
    "model = KNeighborsRegressor(n_neighbors=20, weights='distance')\n",
    "pred = cross_val_predict(model, inVars, outcome, cv=3)\n",
    "evalCorrelation(outcome, pred, 'Right/Left difference knee Pain', 'KNN Prediction');"
   ]
  },
  {
   "cell_type": "markdown",
   "metadata": {},
   "source": [
    "## Neural Network?! "
   ]
  },
  {
   "cell_type": "code",
   "execution_count": 47,
   "metadata": {},
   "outputs": [
    {
     "name": "stdout",
     "output_type": "stream",
     "text": [
      "Linear regression coefficient R2: -10.41\n",
      "Mean absolute difference (MAD): 4.82\n",
      "5.585044860839844\n"
     ]
    },
    {
     "data": {
      "image/png": "[encoded data removed]",
      "text/plain": [
       "<Figure size 432x288 with 1 Axes>"
      ]
     },
     "metadata": {
      "needs_background": "light"
     },
     "output_type": "display_data"
    }
   ],
   "source": [
    "import time \n",
    "start=time.time()\n",
    "\n",
    "from sklearn.neural_network import MLPRegressor\n",
    "model = MLPRegressor(max_iter=1000)\n",
    "pred = cross_val_predict(model, inVars, outcome, cv=3)\n",
    "evalCorrelation(outcome, pred, 'Right/Left difference knee Pain', 'MLP Prediction');\n",
    "\n",
    "done = time.time()\n",
    "print(done - start)"
   ]
  },
  {
   "cell_type": "markdown",
   "metadata": {},
   "source": [
    "# Standard Trick: Dimensionality Reduction"
   ]
  },
  {
   "cell_type": "markdown",
   "metadata": {},
   "source": [
    "Let's try PCA dimensionality reduction prior to classification."
   ]
  },
  {
   "cell_type": "code",
   "execution_count": 55,
   "metadata": {},
   "outputs": [
    {
     "name": "stdout",
     "output_type": "stream",
     "text": [
      "(4613, 77)\n",
      "(4613, 19)\n"
     ]
    }
   ],
   "source": [
    "from sklearn.decomposition import PCA\n",
    "pca = PCA(n_components=0.999, svd_solver='full')\n",
    "modeVars = pca.fit_transform(inVars)\n",
    "print(inVars.shape)\n",
    "print(modeVars.shape)"
   ]
  },
  {
   "cell_type": "code",
   "execution_count": 56,
   "metadata": {},
   "outputs": [
    {
     "name": "stdout",
     "output_type": "stream",
     "text": [
      "Linear regression coefficient R2: 0.07\n",
      "Mean absolute difference (MAD): 2.38\n"
     ]
    },
    {
     "data": {
      "image/png": "[encoded data removed]",
      "text/plain": [
       "<Figure size 432x288 with 1 Axes>"
      ]
     },
     "metadata": {
      "needs_background": "light"
     },
     "output_type": "display_data"
    }
   ],
   "source": [
    "model = LinearRegression()\n",
    "pred = cross_val_predict(model, modeVars, outcome, cv=5)\n",
    "evalCorrelation(outcome, pred, 'Right/Left difference knee Pain', 'PCA + Linear Regression Prediction');"
   ]
  },
  {
   "cell_type": "code",
   "execution_count": 57,
   "metadata": {},
   "outputs": [
    {
     "name": "stdout",
     "output_type": "stream",
     "text": [
      "Linear regression coefficient R2: 0.05\n",
      "Mean absolute difference (MAD): 2.44\n"
     ]
    },
    {
     "data": {
      "image/png": "[encoded data removed]",
      "text/plain": [
       "<Figure size 432x288 with 1 Axes>"
      ]
     },
     "metadata": {
      "needs_background": "light"
     },
     "output_type": "display_data"
    }
   ],
   "source": [
    "model = RandomForestRegressor(n_estimators=100, max_features=5)\n",
    "pred = cross_val_predict(model, modeVars, outcome, cv=5)\n",
    "evalCorrelation(outcome, pred, 'Right/Left difference knee Pain', 'PCA + Random Forest Prediction');"
   ]
  },
  {
   "cell_type": "raw",
   "metadata": {},
   "source": [
    "In general, in ML, we are facing the \"Curse of Dimensionality\". \n",
    "Quite often, we have many variables and not very many observations. High dimensionality, low sample size. \n",
    "In this setting, dimensionality reduction can be crucial. \n",
    "Here, we have quite many knees, so dimensionality reduction is not effective."
   ]
  },
  {
   "cell_type": "markdown",
   "metadata": {},
   "source": [
    "# Standard Trick: Feature Scaling"
   ]
  },
  {
   "cell_type": "markdown",
   "metadata": {},
   "source": [
    "kNN relies on the Euclidean distance in the feature space for finding nearest neighbors. This means that features with very large range may overshadow all other features. Or, features with very small range are overlooked. To avoid this, feature scaling can be effective."
   ]
  },
  {
   "cell_type": "markdown",
   "metadata": {},
   "source": [
    "Exercise: before using kNN (as above), scale each feature to have zero mean and standard deviation one (hint: ask Google)"
   ]
  },
  {
   "cell_type": "code",
   "execution_count": 81,
   "metadata": {},
   "outputs": [
    {
     "data": {
      "text/plain": [
       "array([[3.2542470e-01, 1.8823889e+01, 2.3036938e+03, ..., 3.8660756e-01,\n",
       "        3.1230907e+01, 4.0680866e+00],\n",
       "       [3.2728571e-01, 2.6041908e+01, 2.0459600e+03, ..., 3.6501023e-01,\n",
       "        3.6650623e+01, 6.5631633e+00],\n",
       "       [3.3467570e-01, 1.6300777e+01, 1.3724093e+03, ..., 3.5321549e-01,\n",
       "        1.8740372e+01, 5.9987478e+00],\n",
       "       ...,\n",
       "       [3.3872384e-01, 2.0828621e+01, 1.7867374e+03, ..., 3.4698901e-01,\n",
       "        2.3277527e+01, 7.6236787e+00],\n",
       "       [3.5709774e-01, 1.9160843e+01, 1.8104639e+03, ..., 3.4326681e-01,\n",
       "        1.7419970e+01, 7.3525229e+00],\n",
       "       [3.2661211e-01, 1.8895550e+01, 1.9342133e+03, ..., 3.6054981e-01,\n",
       "        2.4564741e+01, 8.7923174e+00]], dtype=float32)"
      ]
     },
     "execution_count": 81,
     "metadata": {},
     "output_type": "execute_result"
    }
   ],
   "source": [
    "from sklearn.preprocessing import scale\n",
    "from sklearn.preprocessing import MinMaxScaler\n",
    "#scalevar = scale(inVars, axis=0)\n",
    "inVars\n",
    "\n"
   ]
  },
  {
   "cell_type": "code",
   "execution_count": 103,
   "metadata": {},
   "outputs": [
    {
     "ename": "IndexError",
     "evalue": "tuple index out of range",
     "output_type": "error",
     "traceback": [
      "\u001b[1;31m---------------------------------------------------------------------------\u001b[0m",
      "\u001b[1;31mIndexError\u001b[0m                                Traceback (most recent call last)",
      "\u001b[1;32m<ipython-input-103-6f96360e8a8d>\u001b[0m in \u001b[0;36m<module>\u001b[1;34m\u001b[0m\n\u001b[0;32m      1\u001b[0m \u001b[0mscalevar\u001b[0m \u001b[1;33m=\u001b[0m \u001b[0mMinMaxScaler\u001b[0m\u001b[1;33m(\u001b[0m\u001b[1;33m)\u001b[0m\u001b[1;33m.\u001b[0m\u001b[0mfit\u001b[0m\u001b[1;33m(\u001b[0m\u001b[0minVars\u001b[0m\u001b[1;33m)\u001b[0m\u001b[1;33m\u001b[0m\u001b[1;33m\u001b[0m\u001b[0m\n\u001b[1;32m----> 2\u001b[1;33m \u001b[0mplt\u001b[0m\u001b[1;33m.\u001b[0m\u001b[0mhist\u001b[0m\u001b[1;33m(\u001b[0m\u001b[0mnp\u001b[0m\u001b[1;33m.\u001b[0m\u001b[0mstd\u001b[0m\u001b[1;33m(\u001b[0m\u001b[0mscalevar\u001b[0m\u001b[1;33m,\u001b[0m \u001b[0maxis\u001b[0m\u001b[1;33m=\u001b[0m\u001b[1;36m0\u001b[0m\u001b[1;33m)\u001b[0m\u001b[1;33m)\u001b[0m\u001b[1;33m\u001b[0m\u001b[1;33m\u001b[0m\u001b[0m\n\u001b[0m",
      "\u001b[1;32mD:\\sofatware\\anaconda\\lib\\site-packages\\numpy\\core\\fromnumeric.py\u001b[0m in \u001b[0;36mstd\u001b[1;34m(a, axis, dtype, out, ddof, keepdims)\u001b[0m\n\u001b[0;32m   3036\u001b[0m \u001b[1;33m\u001b[0m\u001b[0m\n\u001b[0;32m   3037\u001b[0m     return _methods._std(a, axis=axis, dtype=dtype, out=out, ddof=ddof,\n\u001b[1;32m-> 3038\u001b[1;33m                          **kwargs)\n\u001b[0m\u001b[0;32m   3039\u001b[0m \u001b[1;33m\u001b[0m\u001b[0m\n\u001b[0;32m   3040\u001b[0m \u001b[1;33m\u001b[0m\u001b[0m\n",
      "\u001b[1;32mD:\\sofatware\\anaconda\\lib\\site-packages\\numpy\\core\\_methods.py\u001b[0m in \u001b[0;36m_std\u001b[1;34m(a, axis, dtype, out, ddof, keepdims)\u001b[0m\n\u001b[0;32m    138\u001b[0m \u001b[1;32mdef\u001b[0m \u001b[0m_std\u001b[0m\u001b[1;33m(\u001b[0m\u001b[0ma\u001b[0m\u001b[1;33m,\u001b[0m \u001b[0maxis\u001b[0m\u001b[1;33m=\u001b[0m\u001b[1;32mNone\u001b[0m\u001b[1;33m,\u001b[0m \u001b[0mdtype\u001b[0m\u001b[1;33m=\u001b[0m\u001b[1;32mNone\u001b[0m\u001b[1;33m,\u001b[0m \u001b[0mout\u001b[0m\u001b[1;33m=\u001b[0m\u001b[1;32mNone\u001b[0m\u001b[1;33m,\u001b[0m \u001b[0mddof\u001b[0m\u001b[1;33m=\u001b[0m\u001b[1;36m0\u001b[0m\u001b[1;33m,\u001b[0m \u001b[0mkeepdims\u001b[0m\u001b[1;33m=\u001b[0m\u001b[1;32mFalse\u001b[0m\u001b[1;33m)\u001b[0m\u001b[1;33m:\u001b[0m\u001b[1;33m\u001b[0m\u001b[1;33m\u001b[0m\u001b[0m\n\u001b[0;32m    139\u001b[0m     ret = _var(a, axis=axis, dtype=dtype, out=out, ddof=ddof,\n\u001b[1;32m--> 140\u001b[1;33m                keepdims=keepdims)\n\u001b[0m\u001b[0;32m    141\u001b[0m \u001b[1;33m\u001b[0m\u001b[0m\n\u001b[0;32m    142\u001b[0m     \u001b[1;32mif\u001b[0m \u001b[0misinstance\u001b[0m\u001b[1;33m(\u001b[0m\u001b[0mret\u001b[0m\u001b[1;33m,\u001b[0m \u001b[0mmu\u001b[0m\u001b[1;33m.\u001b[0m\u001b[0mndarray\u001b[0m\u001b[1;33m)\u001b[0m\u001b[1;33m:\u001b[0m\u001b[1;33m\u001b[0m\u001b[1;33m\u001b[0m\u001b[0m\n",
      "\u001b[1;32mD:\\sofatware\\anaconda\\lib\\site-packages\\numpy\\core\\_methods.py\u001b[0m in \u001b[0;36m_var\u001b[1;34m(a, axis, dtype, out, ddof, keepdims)\u001b[0m\n\u001b[0;32m     92\u001b[0m     \u001b[0marr\u001b[0m \u001b[1;33m=\u001b[0m \u001b[0masanyarray\u001b[0m\u001b[1;33m(\u001b[0m\u001b[0ma\u001b[0m\u001b[1;33m)\u001b[0m\u001b[1;33m\u001b[0m\u001b[1;33m\u001b[0m\u001b[0m\n\u001b[0;32m     93\u001b[0m \u001b[1;33m\u001b[0m\u001b[0m\n\u001b[1;32m---> 94\u001b[1;33m     \u001b[0mrcount\u001b[0m \u001b[1;33m=\u001b[0m \u001b[0m_count_reduce_items\u001b[0m\u001b[1;33m(\u001b[0m\u001b[0marr\u001b[0m\u001b[1;33m,\u001b[0m \u001b[0maxis\u001b[0m\u001b[1;33m)\u001b[0m\u001b[1;33m\u001b[0m\u001b[1;33m\u001b[0m\u001b[0m\n\u001b[0m\u001b[0;32m     95\u001b[0m     \u001b[1;31m# Make this warning show up on top.\u001b[0m\u001b[1;33m\u001b[0m\u001b[1;33m\u001b[0m\u001b[1;33m\u001b[0m\u001b[0m\n\u001b[0;32m     96\u001b[0m     \u001b[1;32mif\u001b[0m \u001b[0mddof\u001b[0m \u001b[1;33m>=\u001b[0m \u001b[0mrcount\u001b[0m\u001b[1;33m:\u001b[0m\u001b[1;33m\u001b[0m\u001b[1;33m\u001b[0m\u001b[0m\n",
      "\u001b[1;32mD:\\sofatware\\anaconda\\lib\\site-packages\\numpy\\core\\_methods.py\u001b[0m in \u001b[0;36m_count_reduce_items\u001b[1;34m(arr, axis)\u001b[0m\n\u001b[0;32m     53\u001b[0m     \u001b[0mitems\u001b[0m \u001b[1;33m=\u001b[0m \u001b[1;36m1\u001b[0m\u001b[1;33m\u001b[0m\u001b[1;33m\u001b[0m\u001b[0m\n\u001b[0;32m     54\u001b[0m     \u001b[1;32mfor\u001b[0m \u001b[0max\u001b[0m \u001b[1;32min\u001b[0m \u001b[0maxis\u001b[0m\u001b[1;33m:\u001b[0m\u001b[1;33m\u001b[0m\u001b[1;33m\u001b[0m\u001b[0m\n\u001b[1;32m---> 55\u001b[1;33m         \u001b[0mitems\u001b[0m \u001b[1;33m*=\u001b[0m \u001b[0marr\u001b[0m\u001b[1;33m.\u001b[0m\u001b[0mshape\u001b[0m\u001b[1;33m[\u001b[0m\u001b[0max\u001b[0m\u001b[1;33m]\u001b[0m\u001b[1;33m\u001b[0m\u001b[1;33m\u001b[0m\u001b[0m\n\u001b[0m\u001b[0;32m     56\u001b[0m     \u001b[1;32mreturn\u001b[0m \u001b[0mitems\u001b[0m\u001b[1;33m\u001b[0m\u001b[1;33m\u001b[0m\u001b[0m\n\u001b[0;32m     57\u001b[0m \u001b[1;33m\u001b[0m\u001b[0m\n",
      "\u001b[1;31mIndexError\u001b[0m: tuple index out of range"
     ]
    }
   ],
   "source": [
    "scalevar = MinMaxScaler().fit(inVars)\n",
    "plt.hist(np.std(scalevar, axis=0))"
   ]
  },
  {
   "cell_type": "code",
   "execution_count": null,
   "metadata": {},
   "outputs": [],
   "source": [
    "model = RandomForestRegressor(n_estimators=100, max_features=5)\n",
    "pred = cross_val_predict(model, scalevar, outcome, cv=5)\n",
    "evalCorrelation(outcome, pred, 'Right/Left difference knee Pain', 'PCA + Random Forest Prediction');"
   ]
  },
  {
   "cell_type": "markdown",
   "metadata": {},
   "source": [
    "# Standard Trick: Feature Selection"
   ]
  },
  {
   "cell_type": "code",
   "execution_count": 91,
   "metadata": {},
   "outputs": [
    {
     "data": {
      "text/plain": [
       "(4613, 10)"
      ]
     },
     "execution_count": 91,
     "metadata": {},
     "output_type": "execute_result"
    }
   ],
   "source": [
    "from sklearn.feature_selection import SelectKBest, f_regression\n",
    "\n",
    "inFew = SelectKBest(f_regression, k=10).fit_transform(inVars, outcome)\n",
    "inFew.shape"
   ]
  },
  {
   "cell_type": "code",
   "execution_count": null,
   "metadata": {},
   "outputs": [],
   "source": [
    "model = RandomForestRegressor(n_estimators=100, max_features='sqrt') # with default features\n",
    "pred = cross_val_predict(model, inFew, outcome, cv=3)\n",
    "evalCorrelation(outcome, pred, 'Right/Left difference knee Pain', 'KBest + Random Forest Prediction');"
   ]
  },
  {
   "cell_type": "markdown",
   "metadata": {},
   "source": [
    "Actually, Random Forest is already doing feature selection within the algorithm."
   ]
  },
  {
   "cell_type": "markdown",
   "metadata": {},
   "source": [
    "Exercise: kNN may benefit greatly from performing feature selection. Try the same selection with KNN"
   ]
  },
  {
   "cell_type": "code",
   "execution_count": 96,
   "metadata": {},
   "outputs": [
    {
     "name": "stderr",
     "output_type": "stream",
     "text": [
      "D:\\sofatware\\anaconda\\lib\\site-packages\\sklearn\\preprocessing\\data.py:176: UserWarning: Numerical issues were encountered when centering the data and might not be solved. Dataset may contain too large values. You may need to prescale your features.\n",
      "  warnings.warn(\"Numerical issues were encountered \"\n",
      "D:\\sofatware\\anaconda\\lib\\site-packages\\sklearn\\preprocessing\\data.py:193: UserWarning: Numerical issues were encountered when scaling the data and might not be solved. The standard deviation of the data is probably very close to 0. \n",
      "  warnings.warn(\"Numerical issues were encountered \"\n"
     ]
    },
    {
     "name": "stdout",
     "output_type": "stream",
     "text": [
      "Linear regression coefficient R2: 0.08\n",
      "Mean absolute difference (MAD): 2.20\n"
     ]
    },
    {
     "data": {
      "image/png": "[encoded data removed]",
      "text/plain": [
       "<Figure size 432x288 with 1 Axes>"
      ]
     },
     "metadata": {
      "needs_background": "light"
     },
     "output_type": "display_data"
    }
   ],
   "source": [
    "from sklearn.neighbors import KNeighborsRegressor\n",
    "scaleinv = scale(inVars)\n",
    "inFew = SelectKBest(f_regression, k=10).fit_transform(scaleinv, outcome)\n",
    "model = KNeighborsRegressor(n_neighbors=20, weights='distance')\n",
    "pred = cross_val_predict(model, inFew, outcome, cv=5)\n",
    "evalCorrelation(outcome, pred, 'Right/Left difference knee Pain', 'KNN Prediction');"
   ]
  },
  {
   "cell_type": "markdown",
   "metadata": {},
   "source": [
    "# Summary"
   ]
  },
  {
   "cell_type": "raw",
   "metadata": {},
   "source": [
    "Lessons (learned):\n",
    "    - SKLEARN makes it very easy to try different methods. \n",
    "      Same setup: init method, fit, predict, evaluate. Just replace method. \n",
    "    - Most methods have many variations with many parameters. \n",
    "      The default is unlikely to be good. \n",
    "      Become good at (UNDERSTAND) one method rather than trying 10 methods at random.\n",
    "    - No free lunch theorem I: No single classifier is the best.\n",
    "    - No free lunch theorem II: It is not (in general) possible to predict the optimal method for a given problem.\n",
    "    - If a problem is hard, Machine Learning can't perform magic!\n",
    "    - Even simple methods like LDA overfit when training and testing on same data!\n",
    "    - Cross-validation avoids overfitting (when performed once!).\n",
    "    - When we try tens/hundreds methods (including hyper-parameter combinations) \n",
    "      we perform method overfitting even if we cross-validate!\n",
    "    - Some ML methods, like Neural networks, are a bit tricky to understand (more on that tomorrow)"
   ]
  },
  {
   "cell_type": "code",
   "execution_count": null,
   "metadata": {},
   "outputs": [],
   "source": []
  }
 ],
 "metadata": {
  "kernelspec": {
   "display_name": "Python 3",
   "language": "python",
   "name": "python3"
  },
  "language_info": {
   "codemirror_mode": {
    "name": "ipython",
    "version": 3
   },
   "file_extension": ".py",
   "mimetype": "text/x-python",
   "name": "python",
   "nbconvert_exporter": "python",
   "pygments_lexer": "ipython3",
   "version": "3.7.1"
  }
 },
 "nbformat": 4,
 "nbformat_minor": 2
}
